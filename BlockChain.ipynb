{
  "metadata": {
    "language_info": {
      "codemirror_mode": {
        "name": "python",
        "version": 3
      },
      "file_extension": ".py",
      "mimetype": "text/x-python",
      "name": "python",
      "nbconvert_exporter": "python",
      "pygments_lexer": "ipython3",
      "version": "3.8"
    },
    "kernelspec": {
      "name": "python",
      "display_name": "Python (Pyodide)",
      "language": "python"
    }
  },
  "nbformat_minor": 4,
  "nbformat": 4,
  "cells": [
    {
      "cell_type": "markdown",
      "source": "Importing libraries for standard work",
      "metadata": {}
    },
    {
      "cell_type": "code",
      "source": "import hashlib                   #To deal with hashes\nimport datetime                  #To add time to the transactions\nimport collections               #To store data of block, txn, etc in dictionary form (dictionary being one of its methods)\nimport binascii                  #converting numbers from binary to ascii and reverse\nimport string                    #string manipulation\nimport os                        #To use one of its functions to join strings\nimport time                      #Converting time to unix timestamp for 'Nonce'\n",
      "metadata": {
        "trusted": true
      },
      "execution_count": 1,
      "outputs": []
    },
    {
      "cell_type": "code",
      "source": "#Just a suite of ciphers that we will be using here.\n\nimport Crypto\nimport Crypto.Random\nfrom Crypto.Hash import SHA\nfrom Crypto.Signature import pkcs1_15\nfrom Crypto.PublicKey import RSA\n\nfrom Crypto.Cipher import PKCS1_v1_5 as cipher_PK\n#Since the Signature and Cipher have the same function name\n",
      "metadata": {
        "trusted": true
      },
      "execution_count": 2,
      "outputs": []
    },
    {
      "cell_type": "markdown",
      "source": "**Defining a Client**\n\nA client could be a sender or a receiver of txns\n\nA client is identified with their public key\n\nPrivate Key is used to sign the message",
      "metadata": {}
    },
    {
      "cell_type": "code",
      "source": "class Client:\n    def __init__(self):\n        random = Crypto.Random.new().read\n        self.privateKey = RSA.generate(1024, random)\n        #Generates a random key everytime you call it\n        \n        self.publicKey = self.privateKey.publickey()\n        #publickey() function creates a public key corresponding to given object (in this case 'self.privateKey')\n        \n        self.signer = pkcs1_15.new(self.privateKey)\n        #This function is used to sign the message using RSA key\n        #Note that I am keeping this here right now only for testing purposes so that I will be able to test each txn or function individually\n        #We will be bringing this forward again into the Transaction class as a function!\n        \n        return None\n        #Even though this statement is not necessary (since python compiler automatically considers it as none)\n        #We added this for completeness (and also the auto indentation)\n\n    @property\n    def identity(self):\n        return (binascii.hexlify(self.publicKey.exportKey(format=\"DER\")).decode('ascii'))\n        #Here we are returning the public key\n        #We first get the public key in text format, export it according to Distinguished Encoding Rules,\n        #Then convert the byte format to hexa-decimal format and then finally to ascii format to get the following output\n        \n    #Note that the starting and ending few characters will be same, while others are different\n    #Because of nature of RSA format, the key will have some common text/characters whenever\n    #So, we may have to find a way to deal with that, till then, this seems good!",
      "metadata": {
        "trusted": true
      },
      "execution_count": 3,
      "outputs": []
    },
    {
      "cell_type": "code",
      "source": "Ishan = Client()\nIshan.identity",
      "metadata": {
        "trusted": true
      },
      "execution_count": 4,
      "outputs": [
        {
          "execution_count": 4,
          "output_type": "execute_result",
          "data": {
            "text/plain": "'30819f300d06092a864886f70d010101050003818d0030818902818100bc721b790d9177c5277d45f5eef54b9278f415a872bbc05f68da95364a62f7d37e2a07ced50df8b14951c2c0de1bac1a08480829eb10949b3b5ae113a354c351a13d0c220af089f10514abb542a04cc741cfe0a61f1177d59a398589c16f7ee28911988f2408600f34f42e04b5f6290e4ad71c043e0735ef2c5abb5397b4511d0203010001'"
          },
          "metadata": {}
        }
      ]
    },
    {
      "cell_type": "code",
      "source": "Ishan.privateKey",
      "metadata": {
        "trusted": true
      },
      "execution_count": 5,
      "outputs": [
        {
          "execution_count": 5,
          "output_type": "execute_result",
          "data": {
            "text/plain": "RsaKey(n=132331093037467302063815404335752078874159021828212421772901105749754555824569534770790990236207577158559038402144663250769251862122808328551935705062020973209300167588014007895690252128635827129404640801440718535646195495608245387368810335088746171834971476253747081175025017929079217969944470874501879714077, e=65537, d=2850871626411996955648124873382802055470626010026980682250078953265383808543588747988271072328370928158304119228698241463549277068322559632232035438393397711119428634187003336856026571172672848162869330183247112447777625054737065210072599143961428931827684002448776698249909222564745527851492972011273642185, p=11363173733648722297167635895898858772081416394970014209460204655334470340874163953996219754906140312076611843376096776171925864003901139563802156093743379, q=11645610296849320819948097044125701689784775341240650029012766894591502708889154381774198216525137042624763009196355707963513642082572597399310198839982863, u=5709073775435149870901301835342180476127380890510223102109492553214411465446955259033125350492448088168218474263834220774461280264886942710482518779087580)"
          },
          "metadata": {}
        }
      ]
    },
    {
      "cell_type": "markdown",
      "source": "**Defining Transaction**\n\nNow, for our current project we will only be considering the transaction\nWhere we send some money from 1 person to another\n\nSo, we kow that there must be 1 sender and 1 receiver and the value that is being sent. These would be the values that are sent to the Transaction Class.\nHowever, there would be some implicit values like the timestamp of the transaction. Even if you initialize the transaction many times, the signature will be different. Cuz timestamp is different!",
      "metadata": {}
    },
    {
      "cell_type": "code",
      "source": "class Transaction:\n    def __init__(self, sender, receiver, value):\n        self.sender = sender\n        self.receiver = receiver\n        self.value = value\n        self.time = datetime.datetime.now()\n        self._signature = ''\n        Transaction.signTransaction(self)\n        #Removing the need to call the function again later :)\n        \n        return None\n    \n    \n    def signTransaction(self):\n        #Here we are going to sign the transaction\n        #What happens here is that we take signature of sender by using PKCS1 v1.5 \n        #We then hash the transaction using SHA\n        #Finally, we sign the transaction using signature created in step1\n        \n        self.h = SHA.new(str(self.toDict()).encode('utf8')) #Step 1\n        #First, we take a hash of the entire message\n        #basic str converts to string while utf8 converts it into bytes format.\n        #This hash will be used to sign as well as later verify the signature\n        \n\n        #Writing the code snippet for Genesis Block\n        if self.sender == \"Genesis\":\n            self._signature = pkcs1_15.new(Ishan.privateKey).sign(self.h)\n            #In this case, the receiver, which would be assumed to be the Genesis block creator will be signing the transaction.\n        #-----------------------------------------------------------------------------------------------------------------------------------\n        else:\n            self._signature = pkcs1_15.new(self.sender.privateKey).sign(self.h)\n            #signing the transaction hash with sender's private key to generate signature\n\n        return None\n    \n\n    #This is a function we have created to display the Transaction information\n    def toDict(self):\n        if self.sender == \"Genesis\":\n            #While creating transactions, we will set sender as Genesis, so that program will know it is the Genesis transaction and append it accordingly.\n            identity = \"Genesis\"\n        else:\n            identity = self.sender.identity\n            \n        return collections.OrderedDict ({\n            #collections.OrderedDict is a function in python that converts what you enter, into a dictionary based structure\n            #Make sure to store the return value of this function into a dict based variable\n            #We will be using this to display the details of the transaction\n            'Sender' : identity,\n            'Recipient' : self.receiver,\n            'Amount' : self.value,\n            'Timing' : self.time,\n        })\n    \n    def showTxnDetails(self):    \n        txnInfo = self.toDict()\n        #We chose to keep the toDict function as it will be used for signing purposes\n        #For displaying purposes, showTxnDetails will be used.\n        _strAppend = []\n        # A list of dynamic type (we will be storing strings) is created to append the transaction information along with some other sentences\n        # We will be using this along with 'os' library functions to display all of info in one string variable\n        \n        _strAppend.append(\"Sender = \" + txnInfo['Sender'])\n        _strAppend.append('------------------------')\n        _strAppend.append(\"Receiver = \" + txnInfo['Recipient'])\n        _strAppend.append('-------------------------')\n        _strAppend.append(\"Amount = \" + str(txnInfo['Amount']))\n        _strAppend.append('-----------------------------')\n        _strAppend.append(\"TimeStamp = \" + str(txnInfo['Timing']))\n        _strAppend.append('=================================================================')\n        \n        return os.linesep.join(_strAppend)\n        #Finally, we join the list of strings into 1 string.\n        #This function's return value is to be stored into another variable which will then be used as a string\n    \n    \n    @property\n    #Returns signature in ascii string format.\n    def signature(self):\n        return binascii.hexlify(self._signature).decode('ascii')\n",
      "metadata": {
        "trusted": true
      },
      "execution_count": 6,
      "outputs": []
    },
    {
      "cell_type": "code",
      "source": "#Defining another client to be the recipient for now\nVarun = Client()",
      "metadata": {
        "trusted": true
      },
      "execution_count": 7,
      "outputs": []
    },
    {
      "cell_type": "markdown",
      "source": "Note that in a blockchain environment (or at least certainly in Bitcoin Blockchain)..\n\nWhen you send a BTC to another person you need following things:\n\nThe public address of the receiver\n\nAmount with self (We will validate that in another place)\n\nSign the transaction with your own private key\n\n\nSo, when creating a transaction, \nRemember to pass the reciever as receiver.identity and not just receiver\n\nNote that the identity property of the client returns their Public Key, hence so.\n\n(For the case of this project, we haven't added any further protection to the public key like in Bitcoin blockchain. So, we are directly passing the public key forward. We could choose to take RIPEMD160 later)",
      "metadata": {}
    },
    {
      "cell_type": "code",
      "source": "hihi = Transaction(Ishan, Varun.identity, 12)",
      "metadata": {
        "trusted": true
      },
      "execution_count": 8,
      "outputs": []
    },
    {
      "cell_type": "markdown",
      "source": "Now, to **display the transaction**, we could directly store the return value of showTxnDetails inside a new variable and print it\n\n",
      "metadata": {}
    },
    {
      "cell_type": "markdown",
      "source": "x= hihi.showTxnDetails()\nprint(x)\n\n**This is a demonstrative code**\n\n*Save it as 'Code' in order to run this, otherwise it will be in 'Markdown' format*",
      "metadata": {}
    },
    {
      "cell_type": "markdown",
      "source": "Now, we are set to install a queue which will hold the transactions\n",
      "metadata": {}
    },
    {
      "cell_type": "code",
      "source": "transactions = []",
      "metadata": {
        "trusted": true
      },
      "execution_count": 9,
      "outputs": []
    },
    {
      "cell_type": "markdown",
      "source": "Let us also create some more clients",
      "metadata": {}
    },
    {
      "cell_type": "code",
      "source": "Anagha = Client ()\nMakarand = Client() \n#Ishan and Varun already exist",
      "metadata": {
        "trusted": true
      },
      "execution_count": 10,
      "outputs": []
    },
    {
      "cell_type": "markdown",
      "source": "Now, we create multiple transactions and append them to our transactions list\n\n**CREATING OBJECT OF CLASS TRANSACTION!**",
      "metadata": {}
    },
    {
      "cell_type": "raw",
      "source": "\n#Run this snippet if you want the transactions to be appended to the list. \n#For now, we don't need to. We can add this all at the end once we have added the genesis transaction and the genesis block.\n\nt1 = Transaction(Ishan, Anagha.identity, 5.0)\nt2 = Transaction(Makarand, Varun.identity, 7.0)\nt3 = Transaction(Varun, Ishan.identity, 3.0)\nt4 = Transaction(Anagha, Makarand.identity, '15.0')\nt5 = Transaction(Anagha, Ishan.identity, '16.0')\nt6 = Transaction(Varun, Makarand.identity, '8.0')\nt7 = Transaction(Makarand, Anagha.identity, '12.0')\n\n\ntransactions.append(t1)\ntransactions.append(t2)\ntransactions.append(t3)\ntransactions.append(t4)\ntransactions.append(t5)\ntransactions.append(t6)\ntransactions.append(t7)",
      "metadata": {}
    },
    {
      "cell_type": "markdown",
      "source": "To see all of our transactions, we could run the following code",
      "metadata": {}
    },
    {
      "cell_type": "markdown",
      "source": "for transaction in transactions:\n    txnMark = transaction.showTxnDetails()\n    #Just a name to differentiate variables\n    print(txnMark)\n    \n**RUN THIS CODE IF YOU WANT TO CHECK IF TRANSACTIONS have been appended carefully and correctly**\n\n*It is currently in markdown and you will have to change it to 'Code' in order to make it run*\nAlso, remove these comments.",
      "metadata": {}
    },
    {
      "cell_type": "code",
      "source": "\nlastTransactionIndex = 0\n#At the start, this value will be 0\n#Later on, we go on incrementing this value as we iterate through the transactions",
      "metadata": {
        "trusted": true
      },
      "execution_count": 11,
      "outputs": []
    },
    {
      "cell_type": "markdown",
      "source": "**NOW WE HAVE TO ADD GENESIS BLOCK**\n\n**AND THEN add its hash to the new block as previous Block Hash**",
      "metadata": {}
    },
    {
      "cell_type": "code",
      "source": "class Block:\n    def __init__ (self):\n        self.includedTxns = []\n        now = datetime.datetime.now()\n        self.nonce = round(time.mktime(now.timetuple()))      #Setting nonce to be current unix time of when object of this class will be created.\n                                                              #Added the round function so as to remove the last decimal point\n        self.blockHash = \"\"\n        self.prevBlockHash = \"\"\n        self.merkleRoot = \"\"\n        \n    def _searchTxns(self):\n        count = 0\n        global lastTransactionIndex\n        for txn in range(lastTransactionIndex, len(transactions)):\n            \n            #Step 1: We take the txn from list\n            tempTxn = transactions[lastTransactionIndex]\n            \n            h = SHA.new(str(tempTxn.toDict()).encode('utf8'))\n            #Step 2: Calculating hash of Txn again for later verification\n            \n            #Step 3: We verify the transactions within a try-catch block\n            try:\n                if tempTxn.sender == \"Genesis\":\n                    pkcs1_15.new(Ishan.publicKey).verify(h, tempTxn._signature)\n                \n                #Configured the signature verification to verify Genesis transaction from my name \n                #--------------------------------------------------------------------------------------------------------------------------\n            \n                else:\n                    pkcs1_15.new(tempTxn.sender.publicKey).verify(h, tempTxn._signature)\n                    #Lots of things were gone through\n                    #In the last case, we had to use the bytes form of signature as well (and not just hash's)\n                    #Here, we have taken the Public Key of sender, the hash of transaction and its bytes format signature!\n                \n                print(\"Signature is Valid!!!\")\n                \n            except (ValueError, TypeError):\n                print(\"The signature was not valid :P\")\n                lastTransactionIndex += 1\n                #Since it will not perform further action\n                continue\n                \n            self.includedTxns.append(tempTxn)\n            lastTransactionIndex += 1\n            count += 1\n            if(count == 3):\n                break\n            #Making sure that txn count in Block does not exceed 3\n        return None\n    \n    \n    def _startMining(self):\n        self.blockHash = mine(self, 2)\n        str1 = self._includedTxn\n        self.merkleRoot = sha256(str1)             #Makeshift merkle root, hash of all transactions of the block in contiguous form\n        return None\n    \n    \n    @property\n    def _includedTxn(self):\n        txnc = 1\n        txInfo = []\n        for _in_txn in self.includedTxns:\n            txInfo.append(\"Transaction \"+ str(txnc))\n            txInfo.append(_in_txn.showTxnDetails())\n            txnc += 1\n        return os.linesep.join(txInfo)\n    #This property now returns a string \n    #It has to be stored into a variable and then printed (If want to display correctly)\n    \n    @property\n    def blockHeader(self):\n        blockDict = collections.OrderedDict({ \n            'merkleRoot' : self.merkleRoot,\n            'Nonce' : str(self.nonce),\n            'pBlockHash' : self.prevBlockHash\n        })\n        \n        print(\"Merkle Root = \" + blockDict['merkleRoot'])\n        print(\"Nonce = \" + blockDict['Nonce']) \n        print(\"Previous Block Hash = \" + blockDict['pBlockHash'])\n        return None\n\n        \n#Defining a variable to store previous Block's header into new block\nlastBlockHash = \"\"",
      "metadata": {
        "trusted": true
      },
      "execution_count": 12,
      "outputs": []
    },
    {
      "cell_type": "markdown",
      "source": "**NEXT STEP**\n\n\nMINING Function!",
      "metadata": {}
    },
    {
      "cell_type": "markdown",
      "source": "**Note**\nNow, if we put the mining function within the block itself.\n It is possible that the miners may set multiple blocks to mine at the same time. Hoping to reach the nonce quicker\n We do not want that. So, we create a separate function outside the block class which will be called\n And then, we can apply a locking function to the miner or the mining function!\n \n As an additional thing, I believe we can go for an attribute to the Client which would determine if it is a miner or not\n Or create a separate 'Miner' class that is invoked from the Client class once a specific condition has been satisfied.\n The miner class will then have the locking functionality. As they lock onto 1 block which they have selected for mining.",
      "metadata": {}
    },
    {
      "cell_type": "markdown",
      "source": "For our mining function, we will be using the sha256 hash\nHowever, by default it provides in a way not usable. So we have to act accordingly",
      "metadata": {}
    },
    {
      "cell_type": "code",
      "source": "def sha256(msg):\n    return hashlib.sha256(msg.encode('ascii')).hexdigest()",
      "metadata": {
        "trusted": true
      },
      "execution_count": 13,
      "outputs": []
    },
    {
      "cell_type": "code",
      "source": "def mine(message, diff = 1):\n    assert diff >= 1\n    prefix = '0' * diff\n    #It seems this sort of thing can be done in python (making it easier huh)\n  \n    \n        \n    bHash = ''\n    iteration = 0\n    while (not bHash.startswith(prefix)):\n        # 'not' is a keyword in Python used for negation. It will reverse the boolean value that is returned.\n        #That is, for this while loop, we want it to keep going as long as we do not have a Nonce that starts with prefix\n        # i.e it will stop once we find the Nonce with correct prefix\n        \n        bHash = sha256(str(hash(message)) +str(iteration))\n        iteration += 1\n\n    print(\"After \" +str(iteration)+\" iterations, Block Hash found is : \" +bHash)\n    return str(bHash)\n",
      "metadata": {
        "trusted": true
      },
      "execution_count": 14,
      "outputs": []
    },
    {
      "cell_type": "markdown",
      "source": "**NEXT TASK IS TO CREATE BLOCKCHAIN!**",
      "metadata": {}
    },
    {
      "cell_type": "code",
      "source": "PyCoin = []\n#Name of our blockchain!",
      "metadata": {
        "trusted": true
      },
      "execution_count": 15,
      "outputs": []
    },
    {
      "cell_type": "code",
      "source": "print(\"Do you want it's transactions to be shown as well with the blockchain info?\")\n",
      "metadata": {
        "trusted": true
      },
      "execution_count": 16,
      "outputs": [
        {
          "name": "stdout",
          "text": "Do you want it's transactions to be shown as well with the blockchain info?\n",
          "output_type": "stream"
        }
      ]
    },
    {
      "cell_type": "code",
      "source": "response = await input(\"Enter 'Y' if yes, anything else if no.\\n\")\n# Key was to use 'await'!!\n# Await keyword changes it from pyodide... something to just the input that we provide!\n#This input can then be typecasted into integer and the like as well!\n#WohooO!!!!",
      "metadata": {
        "trusted": true
      },
      "execution_count": 17,
      "outputs": [
        {
          "output_type": "stream",
          "name": "stdin",
          "text": "Enter 'Y' if yes, anything else if no.\n Y\n"
        }
      ]
    },
    {
      "cell_type": "markdown",
      "source": "**Note that if you speed run this, by holding shift and enter**\n\n**It is likely that you will send the next cells to execute too, possibly making them run twice**\n\n**Resulting in 2 Genesis blocks (with possibly different transactions in them). It's funny, but yeah.**\n\n**Restart the Kernel to rectify this. (It's that refresh button to the left of 'Code' or 'Markdown' or 'Raw' whatever you see. Should be right below the tab of this notebook.**",
      "metadata": {}
    },
    {
      "cell_type": "code",
      "source": "def printBlockchain(self):\n    print(\"Number of blocks in the chain: \" +str(len(self)))\n    global response\n    for x in range(len(self)):\n        block_temp = self[x]\n        print( \"Block # \" + str(x))\n        print(block_temp.blockHeader)\n        \n        if (response == 'Y'):\n            print(\"Since the choice was to show transactions inside block as well\")\n            print(\"\")\n\n            for txn in range(len(block_temp.includedTxns)):\n                temp_txn = block_temp.includedTxns[txn]\n                print(temp_txn.showTxnDetails())\n                print('___________________________________________________________________________________')\n            print('~~~~~~~~~~~~~~~~~~~~~~~~~~~~~~~~~~~~~~~~~~~~~~~~~~~~~~~~~~~~~~~~~~~~~~~~~~~~~~~~~~~~~~~~~~~~')\n        else:\n            print(\"All right! You chose not to show transactions!\")",
      "metadata": {
        "trusted": true
      },
      "execution_count": 18,
      "outputs": []
    },
    {
      "cell_type": "code",
      "source": "printBlockchain(PyCoin)",
      "metadata": {
        "trusted": true
      },
      "execution_count": 19,
      "outputs": [
        {
          "name": "stdout",
          "text": "Number of blocks in the chain: 0\n",
          "output_type": "stream"
        }
      ]
    },
    {
      "cell_type": "markdown",
      "source": "**Creating the Genesis Block**",
      "metadata": {}
    },
    {
      "cell_type": "markdown",
      "source": "**First, we need the Genesis Transaction**",
      "metadata": {}
    },
    {
      "cell_type": "code",
      "source": "t_G = Transaction(\"Genesis\", Ishan.identity, 500.0)",
      "metadata": {
        "trusted": true
      },
      "execution_count": 20,
      "outputs": []
    },
    {
      "cell_type": "code",
      "source": "block0 = Block()",
      "metadata": {
        "trusted": true
      },
      "execution_count": 21,
      "outputs": []
    },
    {
      "cell_type": "code",
      "source": "block0.prevBlockHash = \"Genesis.\"",
      "metadata": {
        "trusted": true
      },
      "execution_count": 22,
      "outputs": []
    },
    {
      "cell_type": "code",
      "source": "t_G.showTxnDetails()",
      "metadata": {
        "trusted": true
      },
      "execution_count": 23,
      "outputs": [
        {
          "execution_count": 23,
          "output_type": "execute_result",
          "data": {
            "text/plain": "'Sender = Genesis\\n------------------------\\nReceiver = 30819f300d06092a864886f70d010101050003818d0030818902818100bc721b790d9177c5277d45f5eef54b9278f415a872bbc05f68da95364a62f7d37e2a07ced50df8b14951c2c0de1bac1a08480829eb10949b3b5ae113a354c351a13d0c220af089f10514abb542a04cc741cfe0a61f1177d59a398589c16f7ee28911988f2408600f34f42e04b5f6290e4ad71c043e0735ef2c5abb5397b4511d0203010001\\n-------------------------\\nAmount = 500.0\\n-----------------------------\\nTimeStamp = 2023-06-29 19:15:30.711000\\n================================================================='"
          },
          "metadata": {}
        }
      ]
    },
    {
      "cell_type": "markdown",
      "source": "**Now, the task is to add this transaction to a block and hail it as the genesis block!**",
      "metadata": {}
    },
    {
      "cell_type": "code",
      "source": "transactions.append(t_G)",
      "metadata": {
        "trusted": true
      },
      "execution_count": 24,
      "outputs": []
    },
    {
      "cell_type": "code",
      "source": "block0._searchTxns()\nblock0._startMining()\n\nPyCoin.append(block0)\n#I don't need a separate functionality to make sure that the earlier functions are successful because if they are not then the next line won't be executed.\n#Also, once the block is mined, it is to be added to the blockchain immediately in this project.",
      "metadata": {
        "trusted": true
      },
      "execution_count": 25,
      "outputs": [
        {
          "name": "stdout",
          "text": "Signature is Valid!!!\nAfter 320 iterations, Block Hash found is : 00638c87e5d8ac921de236fa62d87fd1c3f10ec1e07891267c1911845e5d2a37\n",
          "output_type": "stream"
        }
      ]
    },
    {
      "cell_type": "markdown",
      "source": "**Now, let's have a look at our blockchain!**",
      "metadata": {}
    },
    {
      "cell_type": "code",
      "source": "printBlockchain(PyCoin)",
      "metadata": {
        "trusted": true
      },
      "execution_count": 26,
      "outputs": [
        {
          "name": "stdout",
          "text": "Number of blocks in the chain: 1\nBlock # 0\nMerkle Root = ea746bb8affe4d95c8000c81bdb56c2b23ae30587a73c240220bb1898e228de4\nNonce = 1688046331\nPrevious Block Hash = Genesis.\nNone\nSince the choice was to show transactions inside block as well\n\nSender = Genesis\n------------------------\nReceiver = 30819f300d06092a864886f70d010101050003818d0030818902818100bc721b790d9177c5277d45f5eef54b9278f415a872bbc05f68da95364a62f7d37e2a07ced50df8b14951c2c0de1bac1a08480829eb10949b3b5ae113a354c351a13d0c220af089f10514abb542a04cc741cfe0a61f1177d59a398589c16f7ee28911988f2408600f34f42e04b5f6290e4ad71c043e0735ef2c5abb5397b4511d0203010001\n-------------------------\nAmount = 500.0\n-----------------------------\nTimeStamp = 2023-06-29 19:15:30.711000\n=================================================================\n___________________________________________________________________________________\n~~~~~~~~~~~~~~~~~~~~~~~~~~~~~~~~~~~~~~~~~~~~~~~~~~~~~~~~~~~~~~~~~~~~~~~~~~~~~~~~~~~~~~~~~~~~\n",
          "output_type": "stream"
        }
      ]
    },
    {
      "cell_type": "raw",
      "source": "Adding sample transactions:",
      "metadata": {}
    },
    {
      "cell_type": "code",
      "source": "t1 = Transaction(Ishan, Anagha.identity, 5.0)\nt2 = Transaction(Makarand, Varun.identity, 7.0)\nt3 = Transaction(Varun, Ishan.identity, 3.0)\nt4 = Transaction(Anagha, Makarand.identity, '15.0')\nt5 = Transaction(Anagha, Ishan.identity, '16.0')\nt6 = Transaction(Varun, Makarand.identity, '8.0')\nt7 = Transaction(Makarand, Anagha.identity, '12.0')\n\n\ntransactions.append(t1)\ntransactions.append(t2)\ntransactions.append(t3)\ntransactions.append(t4)\ntransactions.append(t5)\ntransactions.append(t6)\ntransactions.append(t7)",
      "metadata": {
        "trusted": true
      },
      "execution_count": 27,
      "outputs": []
    },
    {
      "cell_type": "markdown",
      "source": "**Beyond this, we can now add newer blocks.**\n\nSo, we will be asking the user if they wish to create a new block.",
      "metadata": {}
    },
    {
      "cell_type": "code",
      "source": "",
      "metadata": {
        "trusted": true
      },
      "execution_count": null,
      "outputs": []
    },
    {
      "cell_type": "code",
      "source": "#This function is useful so that now we don't have to look at the latest block \n#and reference its block hash to add into current block as the Previous Block Hash!\n\ndef setPrevBlockHash(self):\n    t_block = PyCoin[-1]\n    self.prevBlockHash = t_block.blockHash",
      "metadata": {
        "trusted": true
      },
      "execution_count": 28,
      "outputs": []
    },
    {
      "cell_type": "code",
      "source": "block1 = Block()\nsetPrevBlockHash(block1)\n\n#This function will have to be called whenever we create a new block.",
      "metadata": {
        "trusted": true
      },
      "execution_count": 29,
      "outputs": []
    },
    {
      "cell_type": "code",
      "source": "block1.prevBlockHash",
      "metadata": {
        "trusted": true
      },
      "execution_count": 30,
      "outputs": [
        {
          "execution_count": 30,
          "output_type": "execute_result",
          "data": {
            "text/plain": "'00638c87e5d8ac921de236fa62d87fd1c3f10ec1e07891267c1911845e5d2a37'"
          },
          "metadata": {}
        }
      ]
    },
    {
      "cell_type": "code",
      "source": "block1._searchTxns()\nblock1._startMining()\n\nPyCoin.append(block1)\n#As we know, the block will get appended as soon as the 1st two conditions are satisfied.",
      "metadata": {
        "trusted": true
      },
      "execution_count": 31,
      "outputs": [
        {
          "name": "stdout",
          "text": "Signature is Valid!!!\nSignature is Valid!!!\nSignature is Valid!!!\nAfter 106 iterations, Block Hash found is : 0074df41b796f32706e07545e6b78656dfe5e7adf029e6370acf514b0433f059\n",
          "output_type": "stream"
        }
      ]
    },
    {
      "cell_type": "code",
      "source": "block2 = Block()\nsetPrevBlockHash(block2)\nblock2.prevBlockHash\n#Not necessary, but just added this here, to show the previous block hash here as well.\n\nblock2._searchTxns()\nblock2._startMining()\n\nPyCoin.append(block2)",
      "metadata": {
        "trusted": true
      },
      "execution_count": 32,
      "outputs": [
        {
          "name": "stdout",
          "text": "Signature is Valid!!!\nSignature is Valid!!!\nSignature is Valid!!!\nAfter 240 iterations, Block Hash found is : 00aa319d73d90d5ffb75c67db1e7cb9c9a35d81af30d41913485c14ca95777bb\n",
          "output_type": "stream"
        }
      ]
    },
    {
      "cell_type": "markdown",
      "source": "**We can then call the Print BlockChain function**\n\n**Or we could add newer functions, whichever, it is your choice!**",
      "metadata": {}
    },
    {
      "cell_type": "code",
      "source": "#Turn this into 'Code' (currently set to 'Raw') in order to make this run.\n\nprintBlockchain(PyCoin)",
      "metadata": {
        "trusted": true
      },
      "execution_count": 33,
      "outputs": [
        {
          "name": "stdout",
          "text": "Number of blocks in the chain: 3\nBlock # 0\nMerkle Root = ea746bb8affe4d95c8000c81bdb56c2b23ae30587a73c240220bb1898e228de4\nNonce = 1688046331\nPrevious Block Hash = Genesis.\nNone\nSince the choice was to show transactions inside block as well\n\nSender = Genesis\n------------------------\nReceiver = 30819f300d06092a864886f70d010101050003818d0030818902818100bc721b790d9177c5277d45f5eef54b9278f415a872bbc05f68da95364a62f7d37e2a07ced50df8b14951c2c0de1bac1a08480829eb10949b3b5ae113a354c351a13d0c220af089f10514abb542a04cc741cfe0a61f1177d59a398589c16f7ee28911988f2408600f34f42e04b5f6290e4ad71c043e0735ef2c5abb5397b4511d0203010001\n-------------------------\nAmount = 500.0\n-----------------------------\nTimeStamp = 2023-06-29 19:15:30.711000\n=================================================================\n___________________________________________________________________________________\n~~~~~~~~~~~~~~~~~~~~~~~~~~~~~~~~~~~~~~~~~~~~~~~~~~~~~~~~~~~~~~~~~~~~~~~~~~~~~~~~~~~~~~~~~~~~\nBlock # 1\nMerkle Root = 0979a96c1fffd07fb03be79298ac82e00010f3be5744ab9a7b63c9cc0df0e9b9\nNonce = 1688046338\nPrevious Block Hash = 00638c87e5d8ac921de236fa62d87fd1c3f10ec1e07891267c1911845e5d2a37\nNone\nSince the choice was to show transactions inside block as well\n\nSender = 30819f300d06092a864886f70d010101050003818d0030818902818100bc721b790d9177c5277d45f5eef54b9278f415a872bbc05f68da95364a62f7d37e2a07ced50df8b14951c2c0de1bac1a08480829eb10949b3b5ae113a354c351a13d0c220af089f10514abb542a04cc741cfe0a61f1177d59a398589c16f7ee28911988f2408600f34f42e04b5f6290e4ad71c043e0735ef2c5abb5397b4511d0203010001\n------------------------\nReceiver = 30819f300d06092a864886f70d010101050003818d0030818902818100b3f1e96a41404a7a7f81b871e50ab34a100bec394e63b51dbee087a263301e36ebeae833734211f151e0b0453315b7f054a5b35321d541bc53579ee4b1d1a742fb83f75cdd0281683a01a10834807d243ab128aeffa49c58e988e21d7a12e06b262aa48942c244588909b7451a470c84daa252663e92b836904ea2a82169dec50203010001\n-------------------------\nAmount = 5.0\n-----------------------------\nTimeStamp = 2023-06-29 19:15:35.949000\n=================================================================\n___________________________________________________________________________________\nSender = 30819f300d06092a864886f70d010101050003818d0030818902818100c8421fd2997fcb37c034ffc62ccd7a2ae8114788095063733e6e1f98a7fedab1183a0764e7028cdb7ce66c22a0a53628c9b735c9bf053decd10ad776840438a4d87d0b8422aad296e7e996fd4f6d11d04366ecb24b9f66854733ea66caae532b96a29c9e308e2d5eaddd34295a1cd5e24190bbcc7da3ceabcbe6ae3761069b2b0203010001\n------------------------\nReceiver = 30819f300d06092a864886f70d010101050003818d003081890281810096607828b316a6beb085149f1f3f70cf10cc392858a37431d6f853511844a41b0821edf53ac59175e435876ee25ecfcb7dc170ab1febb3ca8034fa7cdd73f71032b966d7b5833f48d16a7787c97c9a3bfd8b497487ad00d23702a251b10895290f5b3331aec7b47fbde023aac6b9f3c2fd03d2436005536ac2b1627e8b7099d50203010001\n-------------------------\nAmount = 7.0\n-----------------------------\nTimeStamp = 2023-06-29 19:15:35.953000\n=================================================================\n___________________________________________________________________________________\nSender = 30819f300d06092a864886f70d010101050003818d003081890281810096607828b316a6beb085149f1f3f70cf10cc392858a37431d6f853511844a41b0821edf53ac59175e435876ee25ecfcb7dc170ab1febb3ca8034fa7cdd73f71032b966d7b5833f48d16a7787c97c9a3bfd8b497487ad00d23702a251b10895290f5b3331aec7b47fbde023aac6b9f3c2fd03d2436005536ac2b1627e8b7099d50203010001\n------------------------\nReceiver = 30819f300d06092a864886f70d010101050003818d0030818902818100bc721b790d9177c5277d45f5eef54b9278f415a872bbc05f68da95364a62f7d37e2a07ced50df8b14951c2c0de1bac1a08480829eb10949b3b5ae113a354c351a13d0c220af089f10514abb542a04cc741cfe0a61f1177d59a398589c16f7ee28911988f2408600f34f42e04b5f6290e4ad71c043e0735ef2c5abb5397b4511d0203010001\n-------------------------\nAmount = 3.0\n-----------------------------\nTimeStamp = 2023-06-29 19:15:35.958000\n=================================================================\n___________________________________________________________________________________\n~~~~~~~~~~~~~~~~~~~~~~~~~~~~~~~~~~~~~~~~~~~~~~~~~~~~~~~~~~~~~~~~~~~~~~~~~~~~~~~~~~~~~~~~~~~~\nBlock # 2\nMerkle Root = 2ed4a15f4857606950c6a3893be9bd5bbf3abba4049f69a93602c38659f0742a\nNonce = 1688046339\nPrevious Block Hash = 0074df41b796f32706e07545e6b78656dfe5e7adf029e6370acf514b0433f059\nNone\nSince the choice was to show transactions inside block as well\n\nSender = 30819f300d06092a864886f70d010101050003818d0030818902818100b3f1e96a41404a7a7f81b871e50ab34a100bec394e63b51dbee087a263301e36ebeae833734211f151e0b0453315b7f054a5b35321d541bc53579ee4b1d1a742fb83f75cdd0281683a01a10834807d243ab128aeffa49c58e988e21d7a12e06b262aa48942c244588909b7451a470c84daa252663e92b836904ea2a82169dec50203010001\n------------------------\nReceiver = 30819f300d06092a864886f70d010101050003818d0030818902818100c8421fd2997fcb37c034ffc62ccd7a2ae8114788095063733e6e1f98a7fedab1183a0764e7028cdb7ce66c22a0a53628c9b735c9bf053decd10ad776840438a4d87d0b8422aad296e7e996fd4f6d11d04366ecb24b9f66854733ea66caae532b96a29c9e308e2d5eaddd34295a1cd5e24190bbcc7da3ceabcbe6ae3761069b2b0203010001\n-------------------------\nAmount = 15.0\n-----------------------------\nTimeStamp = 2023-06-29 19:15:35.962000\n=================================================================\n___________________________________________________________________________________\nSender = 30819f300d06092a864886f70d010101050003818d0030818902818100b3f1e96a41404a7a7f81b871e50ab34a100bec394e63b51dbee087a263301e36ebeae833734211f151e0b0453315b7f054a5b35321d541bc53579ee4b1d1a742fb83f75cdd0281683a01a10834807d243ab128aeffa49c58e988e21d7a12e06b262aa48942c244588909b7451a470c84daa252663e92b836904ea2a82169dec50203010001\n------------------------\nReceiver = 30819f300d06092a864886f70d010101050003818d0030818902818100bc721b790d9177c5277d45f5eef54b9278f415a872bbc05f68da95364a62f7d37e2a07ced50df8b14951c2c0de1bac1a08480829eb10949b3b5ae113a354c351a13d0c220af089f10514abb542a04cc741cfe0a61f1177d59a398589c16f7ee28911988f2408600f34f42e04b5f6290e4ad71c043e0735ef2c5abb5397b4511d0203010001\n-------------------------\nAmount = 16.0\n-----------------------------\nTimeStamp = 2023-06-29 19:15:35.966000\n=================================================================\n___________________________________________________________________________________\nSender = 30819f300d06092a864886f70d010101050003818d003081890281810096607828b316a6beb085149f1f3f70cf10cc392858a37431d6f853511844a41b0821edf53ac59175e435876ee25ecfcb7dc170ab1febb3ca8034fa7cdd73f71032b966d7b5833f48d16a7787c97c9a3bfd8b497487ad00d23702a251b10895290f5b3331aec7b47fbde023aac6b9f3c2fd03d2436005536ac2b1627e8b7099d50203010001\n------------------------\nReceiver = 30819f300d06092a864886f70d010101050003818d0030818902818100c8421fd2997fcb37c034ffc62ccd7a2ae8114788095063733e6e1f98a7fedab1183a0764e7028cdb7ce66c22a0a53628c9b735c9bf053decd10ad776840438a4d87d0b8422aad296e7e996fd4f6d11d04366ecb24b9f66854733ea66caae532b96a29c9e308e2d5eaddd34295a1cd5e24190bbcc7da3ceabcbe6ae3761069b2b0203010001\n-------------------------\nAmount = 8.0\n-----------------------------\nTimeStamp = 2023-06-29 19:15:35.970000\n=================================================================\n___________________________________________________________________________________\n~~~~~~~~~~~~~~~~~~~~~~~~~~~~~~~~~~~~~~~~~~~~~~~~~~~~~~~~~~~~~~~~~~~~~~~~~~~~~~~~~~~~~~~~~~~~\n",
          "output_type": "stream"
        }
      ]
    },
    {
      "cell_type": "raw",
      "source": "#You can now add the same transaction objects as were considered before or make your own changes to them.\n#That will be your own choice.\n#With this, I conclude this project.",
      "metadata": {}
    },
    {
      "cell_type": "code",
      "source": "",
      "metadata": {},
      "execution_count": null,
      "outputs": []
    }
  ]
}